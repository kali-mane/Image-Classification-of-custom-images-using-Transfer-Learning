{
 "cells": [
  {
   "cell_type": "code",
   "execution_count": 3,
   "metadata": {},
   "outputs": [],
   "source": [
    "import pandas as pd\n",
    "import numpy as np\n",
    "import os, sys"
   ]
  },
  {
   "cell_type": "code",
   "execution_count": 4,
   "metadata": {},
   "outputs": [
    {
     "name": "stderr",
     "output_type": "stream",
     "text": [
      "C:\\Users\\mavinaya\\AppData\\Local\\Continuum\\anaconda3\\lib\\site-packages\\h5py\\__init__.py:36: FutureWarning: Conversion of the second argument of issubdtype from `float` to `np.floating` is deprecated. In future, it will be treated as `np.float64 == np.dtype(float).type`.\n",
      "  from ._conv import register_converters as _register_converters\n",
      "Using TensorFlow backend.\n"
     ]
    }
   ],
   "source": [
    "from keras import applications\n",
    "from keras.models import Model\n",
    "from keras import optimizers\n",
    "from keras.models import Sequential\n",
    "from keras.layers import Dense, Flatten\n",
    "from keras.utils import to_categorical\n",
    "from keras.preprocessing.image import ImageDataGenerator"
   ]
  },
  {
   "cell_type": "code",
   "execution_count": 9,
   "metadata": {},
   "outputs": [],
   "source": [
    "# expected image size\n",
    "img_width, img_height = 150, 150\n",
    "# folder containing the images on which\n",
    "# the network will train. The train folder \n",
    "# has two sub folders, dogs and cats.\n",
    "location = 'D:/Users/Default User/Desktop/ML/car-damage-dataset'\n",
    "\n",
    "train_data_dir = location+'/data1/training'\n",
    "# folder containing the validation samples\n",
    "# folder structure is same as the training folder\n",
    "validation_data_dir = location+'/data1/validation'\n",
    "# how many images to be considered for training\n",
    "train_samples = 10\n",
    "# how many images to be used for validation\n",
    "validation_samples = 4\n",
    "# how many runs will the network make\n",
    "# over the training set before starting on\n",
    "# validation\n",
    "epoch = 50\n",
    "\n",
    "# path to the model weights files.\n",
    "weights_path = 'D:\\\\Users\\\\Default User\\\\Desktop\\\\ML\\\\car-damage-dataset\\\\vgg16_weights.h5'\n",
    "top_model_weights_path = 'D:\\\\Users\\\\Default User\\\\Desktop\\\\ML\\\\car-damage-dataset\\\\fc_model.h5'"
   ]
  },
  {
   "cell_type": "code",
   "execution_count": 10,
   "metadata": {},
   "outputs": [],
   "source": [
    "#Transfer learning with VGG16 \n",
    "base_model = applications.VGG16(weights='imagenet', include_top=False, input_shape=(img_width, img_height, 3))"
   ]
  },
  {
   "cell_type": "code",
   "execution_count": 17,
   "metadata": {},
   "outputs": [
    {
     "name": "stdout",
     "output_type": "stream",
     "text": [
      "_________________________________________________________________\n",
      "Layer (type)                 Output Shape              Param #   \n",
      "=================================================================\n",
      "input_2 (InputLayer)         (None, 150, 150, 3)       0         \n",
      "_________________________________________________________________\n",
      "block1_conv1 (Conv2D)        (None, 150, 150, 64)      1792      \n",
      "_________________________________________________________________\n",
      "block1_conv2 (Conv2D)        (None, 150, 150, 64)      36928     \n",
      "_________________________________________________________________\n",
      "block1_pool (MaxPooling2D)   (None, 75, 75, 64)        0         \n",
      "_________________________________________________________________\n",
      "block2_conv1 (Conv2D)        (None, 75, 75, 128)       73856     \n",
      "_________________________________________________________________\n",
      "block2_conv2 (Conv2D)        (None, 75, 75, 128)       147584    \n",
      "_________________________________________________________________\n",
      "block2_pool (MaxPooling2D)   (None, 37, 37, 128)       0         \n",
      "_________________________________________________________________\n",
      "block3_conv1 (Conv2D)        (None, 37, 37, 256)       295168    \n",
      "_________________________________________________________________\n",
      "block3_conv2 (Conv2D)        (None, 37, 37, 256)       590080    \n",
      "_________________________________________________________________\n",
      "block3_conv3 (Conv2D)        (None, 37, 37, 256)       590080    \n",
      "_________________________________________________________________\n",
      "block3_pool (MaxPooling2D)   (None, 18, 18, 256)       0         \n",
      "_________________________________________________________________\n",
      "block4_conv1 (Conv2D)        (None, 18, 18, 512)       1180160   \n",
      "_________________________________________________________________\n",
      "block4_conv2 (Conv2D)        (None, 18, 18, 512)       2359808   \n",
      "_________________________________________________________________\n",
      "block4_conv3 (Conv2D)        (None, 18, 18, 512)       2359808   \n",
      "_________________________________________________________________\n",
      "block4_pool (MaxPooling2D)   (None, 9, 9, 512)         0         \n",
      "_________________________________________________________________\n",
      "block5_conv1 (Conv2D)        (None, 9, 9, 512)         2359808   \n",
      "_________________________________________________________________\n",
      "block5_conv2 (Conv2D)        (None, 9, 9, 512)         2359808   \n",
      "_________________________________________________________________\n",
      "block5_conv3 (Conv2D)        (None, 9, 9, 512)         2359808   \n",
      "_________________________________________________________________\n",
      "block5_pool (MaxPooling2D)   (None, 4, 4, 512)         0         \n",
      "_________________________________________________________________\n",
      "sequential_4 (Sequential)    (None, 1)                 2097665   \n",
      "=================================================================\n",
      "Total params: 16,812,353\n",
      "Trainable params: 16,812,353\n",
      "Non-trainable params: 0\n",
      "_________________________________________________________________\n"
     ]
    }
   ],
   "source": [
    "## set model architechture \n",
    "add_model = Sequential()\n",
    "add_model.add(Flatten(input_shape=base_model.output_shape[1:]))\n",
    "add_model.add(Dense(256, activation='relu'))\n",
    "add_model.add(Dense(1, activation='sigmoid'))\n",
    "\n",
    "model = Model(inputs=base_model.input, outputs=add_model(base_model.output))\n",
    "model.compile(loss='binary_crossentropy', optimizer=optimizers.SGD(lr=1e-4, momentum=0.9),\n",
    "              metrics=['accuracy'])\n",
    "\n",
    "model.summary()"
   ]
  },
  {
   "cell_type": "code",
   "execution_count": 18,
   "metadata": {},
   "outputs": [
    {
     "name": "stdout",
     "output_type": "stream",
     "text": [
      "Found 10 images belonging to 2 classes.\n",
      "Found 4 images belonging to 2 classes.\n"
     ]
    }
   ],
   "source": [
    "batch_size = 32 # tune it\n",
    "epochs = 5 # increase it lb:0.40856(50 epochs), 0.27101 (5 epochs)\n",
    "\n",
    "'''\n",
    "train_datagen = ImageDataGenerator(\n",
    "        rotation_range=30, \n",
    "        width_shift_range=0.1,\n",
    "        height_shift_range=0.1, \n",
    "        horizontal_flip=True)\n",
    "train_datagen.fit(x_train)\n",
    "'''\n",
    "\n",
    "# All images will be rescaled by 1./255\n",
    "datagen = ImageDataGenerator(rescale=1./255)\n",
    "      \n",
    "train_generator = datagen.flow_from_directory(train_data_dir,\n",
    "                                            target_size=(img_width, img_height),\n",
    "                                            batch_size=16, \n",
    "                                            class_mode='binary', \n",
    "                                            shuffle=False) \n",
    "validation_generator = datagen.flow_from_directory(validation_data_dir,\n",
    "        target_size=(150, 150),\n",
    "        batch_size=20,\n",
    "        class_mode='binary')"
   ]
  },
  {
   "cell_type": "code",
   "execution_count": null,
   "metadata": {},
   "outputs": [
    {
     "name": "stdout",
     "output_type": "stream",
     "text": [
      "Epoch 1/15\n",
      "100/100 [==============================] - 720s 7s/step - loss: 0.1390 - acc: 0.9630 - val_loss: 0.3339 - val_acc: 1.0000\n",
      "Epoch 2/15\n",
      "100/100 [==============================] - 828s 8s/step - loss: 0.0049 - acc: 1.0000 - val_loss: 0.2985 - val_acc: 1.0000\n",
      "Epoch 3/15\n",
      "100/100 [==============================] - 1270s 13s/step - loss: 0.0022 - acc: 1.0000 - val_loss: 0.2840 - val_acc: 1.0000\n",
      "Epoch 4/15\n",
      "100/100 [==============================] - 1247s 12s/step - loss: 0.0013 - acc: 1.0000 - val_loss: 0.2745 - val_acc: 1.0000\n",
      "Epoch 5/15\n",
      "100/100 [==============================] - 1212s 12s/step - loss: 9.2043e-04 - acc: 1.0000 - val_loss: 0.2674 - val_acc: 1.0000\n",
      "Epoch 6/15\n",
      "100/100 [==============================] - 1311s 13s/step - loss: 6.8743e-04 - acc: 1.0000 - val_loss: 0.2621 - val_acc: 1.0000\n",
      "Epoch 7/15\n",
      "100/100 [==============================] - 1299s 13s/step - loss: 5.4009e-04 - acc: 1.0000 - val_loss: 0.2572 - val_acc: 1.0000\n",
      "Epoch 8/15\n",
      "100/100 [==============================] - 1074s 11s/step - loss: 4.4002e-04 - acc: 1.0000 - val_loss: 0.2532 - val_acc: 1.0000\n",
      "Epoch 9/15\n",
      "100/100 [==============================] - 731s 7s/step - loss: 3.6830e-04 - acc: 1.0000 - val_loss: 0.2498 - val_acc: 1.0000\n",
      "Epoch 10/15\n",
      "100/100 [==============================] - 739s 7s/step - loss: 3.1450e-04 - acc: 1.0000 - val_loss: 0.2466 - val_acc: 1.0000\n",
      "Epoch 11/15\n",
      "100/100 [==============================] - 724s 7s/step - loss: 2.7289e-04 - acc: 1.0000 - val_loss: 0.2438 - val_acc: 1.0000\n",
      "Epoch 12/15\n",
      "100/100 [==============================] - 713s 7s/step - loss: 2.3991e-04 - acc: 1.0000 - val_loss: 0.2413 - val_acc: 1.0000\n",
      "Epoch 13/15\n",
      "100/100 [==============================] - 712s 7s/step - loss: 2.1335e-04 - acc: 1.0000 - val_loss: 0.2392 - val_acc: 1.0000\n",
      "Epoch 14/15\n",
      " 78/100 [======================>.......] - ETA: 2:30 - loss: 1.9379e-04 - acc: 1.0000"
     ]
    }
   ],
   "source": [
    "history = model.fit_generator(train_generator, steps_per_epoch=100, epochs=15, validation_data=validation_generator,\n",
    "      validation_steps=50)"
   ]
  },
  {
   "cell_type": "code",
   "execution_count": null,
   "metadata": {},
   "outputs": [],
   "source": []
  }
 ],
 "metadata": {
  "kernelspec": {
   "display_name": "Python 3",
   "language": "python",
   "name": "python3"
  },
  "language_info": {
   "codemirror_mode": {
    "name": "ipython",
    "version": 3
   },
   "file_extension": ".py",
   "mimetype": "text/x-python",
   "name": "python",
   "nbconvert_exporter": "python",
   "pygments_lexer": "ipython3",
   "version": "3.6.5"
  }
 },
 "nbformat": 4,
 "nbformat_minor": 2
}
